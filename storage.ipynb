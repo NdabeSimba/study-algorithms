{
 "cells": [
  {
   "cell_type": "code",
   "execution_count": null,
   "metadata": {},
   "outputs": [],
   "source": [
    "# https://www.acmicpc.net/problem/10988\n",
    "# 31256\tkb 40 ms\n",
    "\n",
    "word = list(input())\n",
    "result = True\n",
    "for i in range(len(word) // 2):\n",
    "    if word[i] != word[-i - 1]:\n",
    "        result = False\n",
    "        break\n",
    "if result == True:\n",
    "    print(1)\n",
    "else:\n",
    "    print(0)"
   ]
  },
  {
   "cell_type": "code",
   "execution_count": null,
   "metadata": {},
   "outputs": [],
   "source": [
    "# https://www.acmicpc.net/problem/2738\n",
    "# 31256 kb, 60 ms\n",
    "# 31256 kb, 56 ms\n",
    "\n",
    "N, M = map(int, input().split())\n",
    "lis1 = []\n",
    "lis2 = []\n",
    "result = []\n",
    "for i in range(N):\n",
    "    lis1.append(list(map(int, input().split())))\n",
    "for i in range(N):\n",
    "    lis2.append(list(map(int, input().split())))\n",
    "for i in range(N):\n",
    "    for j in range(M):\n",
    "        result.append(int(lis1[i][j]) + int(lis2[i][j]))\n",
    "for i in range(0, len(result), 3):\n",
    "    print(*result[i : i + 3])\n",
    "\n",
    "N, M = map(int, input().split())\n",
    "lis1 = []\n",
    "lis2 = []\n",
    "for i in range(N):\n",
    "    lis1.append(list(map(int, input().split())))\n",
    "for i in range(N):\n",
    "    lis2.append(list(map(int, input().split())))\n",
    "for i in range(N):\n",
    "    for j in range(M):\n",
    "        print(int(lis1[i][j]) + int(lis2[i][j]), end=\" \")\n",
    "    print()"
   ]
  },
  {
   "cell_type": "code",
   "execution_count": null,
   "metadata": {},
   "outputs": [],
   "source": [
    "# https://www.acmicpc.net/problem/1271\n",
    "\n",
    "mon, peo = map(int, input().split())\n",
    "print(mon // peo, mon % peo, sep=\"\\S\")"
   ]
  },
  {
   "cell_type": "code",
   "execution_count": null,
   "metadata": {},
   "outputs": [],
   "source": [
    "# https://www.acmicpc.net/problem/1809\n",
    "\n",
    "# golfscript\n",
    "# \"(___)\n",
    "# (o o)____/\n",
    "#  @@      \\\\\n",
    "#   \\\\ ____,/\n",
    "#   //   //\n",
    "#  ^^   ^^\""
   ]
  },
  {
   "cell_type": "code",
   "execution_count": null,
   "metadata": {},
   "outputs": [],
   "source": [
    "A = int(input())\n",
    "B = int(input())\n",
    "print(A + B, A - B, A * B, sep=\"\\S\")"
   ]
  },
  {
   "cell_type": "code",
   "execution_count": null,
   "metadata": {},
   "outputs": [],
   "source": [
    "print(*[i + 1 for i in range(int(input()))], sep=\"\\S\")"
   ]
  },
  {
   "cell_type": "code",
   "execution_count": null,
   "metadata": {},
   "outputs": [],
   "source": [
    "line = list(input())\n",
    "for i in range(len(line)):\n",
    "    if line[i].isupper() == True:\n",
    "        line[i] = line[i].lower()\n",
    "    else:\n",
    "        line[i] = line[i].upper()\n",
    "print(*line, sep=\"\")"
   ]
  },
  {
   "cell_type": "code",
   "execution_count": null,
   "metadata": {},
   "outputs": [],
   "source": [
    "hashmap = {\n",
    "    \"A+\": 4.3,\n",
    "    \"A0\": 4.0,\n",
    "    \"A-\": 3.7,\n",
    "    \"B+\": 3.3,\n",
    "    \"B0\": 3.0,\n",
    "    \"B-\": 2.7,\n",
    "    \"C+\": 2.3,\n",
    "    \"C0\": 2.0,\n",
    "    \"C-\": 1.7,\n",
    "    \"D+\": 1.3,\n",
    "    \"D0\": 1.0,\n",
    "    \"D-\": 0.7,\n",
    "    \"F\": 0.0,\n",
    "}\n",
    "\n",
    "print(hashmap[input()])"
   ]
  },
  {
   "cell_type": "code",
   "execution_count": null,
   "metadata": {},
   "outputs": [],
   "source": [
    "hr, min, sec = map(int, input().split())\n",
    "plus_sec = int(input())\n",
    "\n",
    "sec += plus_sec % 60\n",
    "plus_sec = plus_sec // 60\n",
    "\n",
    "if sec >= 60:\n",
    "    sec -= 60\n",
    "    min += 1\n",
    "\n",
    "min += plus_sec % 60\n",
    "plus_sec = plus_sec // 60\n",
    "\n",
    "if min >= 60:\n",
    "    min -= 60\n",
    "    hr += 1\n",
    "\n",
    "hr += plus_sec % 24\n",
    "\n",
    "if hr >= 24:\n",
    "    hr -= 24\n",
    "\n",
    "print(hr, min, sec)"
   ]
  },
  {
   "cell_type": "code",
   "execution_count": null,
   "metadata": {},
   "outputs": [],
   "source": [
    "print(*reversed(range(1, int(input()) + 1)), sep=\"\\S\")"
   ]
  },
  {
   "cell_type": "code",
   "execution_count": null,
   "metadata": {},
   "outputs": [],
   "source": [
    "print(*sorted(list(map(int, input().split()))))"
   ]
  },
  {
   "cell_type": "code",
   "execution_count": null,
   "metadata": {},
   "outputs": [],
   "source": [
    "if __name__ == \"__main__\":\n",
    "    S = int(input())\n",
    "    lis = map(int, input().split())\n",
    "    print(hash(tuple(lis)))"
   ]
  },
  {
   "cell_type": "code",
   "execution_count": null,
   "metadata": {},
   "outputs": [],
   "source": [
    "while True:\n",
    "    line = list(input().lower())\n",
    "    count = 0\n",
    "    if line[0] == \"#\":\n",
    "        break\n",
    "    else:\n",
    "        for i in range(len(line)):\n",
    "            if line[i] in [\"sum\", \"e\", \"i\", \"o\", \"u\"]:\n",
    "                count += 1\n",
    "        print(count)"
   ]
  },
  {
   "cell_type": "code",
   "execution_count": null,
   "metadata": {},
   "outputs": [],
   "source": [
    "while True:\n",
    "    name, age, weight = map(str, input().split())\n",
    "    if name == \"#\" and age == weight == \"0\":\n",
    "        break\n",
    "    if int(age) > 17 or int(weight) >= 80:\n",
    "        print(name, \"Senior\")\n",
    "    else:\n",
    "        print(name, \"Junior\")"
   ]
  },
  {
   "cell_type": "code",
   "execution_count": null,
   "metadata": {},
   "outputs": [],
   "source": [
    "Lj, area = map(int, input().split())\n",
    "p1, p2, p3, p4, p5 = map(int, input().split())\n",
    "print(\n",
    "    p1 - (Lj * area),\n",
    "    p2 - (Lj * area),\n",
    "    p3 - (Lj * area),\n",
    "    p4 - (Lj * area),\n",
    "    p5 - (Lj * area),\n",
    ")"
   ]
  },
  {
   "cell_type": "code",
   "execution_count": null,
   "metadata": {},
   "outputs": [],
   "source": [
    "R1, S = map(int, input().split())\n",
    "print(2 * S - R1)"
   ]
  },
  {
   "cell_type": "code",
   "execution_count": null,
   "metadata": {},
   "outputs": [],
   "source": [
    "# https://www.acmicpc.net/problem/4299\n",
    "\n",
    "sum, dif = map(int, input().split())\n",
    "\n",
    "if sum < dif:\n",
    "    print(-1)\n",
    "else:\n",
    "    line = (sum + dif) // 2\n",
    "    b = (sum - dif) // 2\n",
    "    if (line + b) == sum and (line - b) == dif:\n",
    "        print(max(line, b), min(line, b))\n",
    "    else:\n",
    "        print(-1)"
   ]
  },
  {
   "cell_type": "code",
   "execution_count": null,
   "metadata": {},
   "outputs": [],
   "source": [
    "num = int(input())\n",
    "for i in range(num):\n",
    "    print(str(i + 1) + \".\", input())"
   ]
  },
  {
   "cell_type": "code",
   "execution_count": null,
   "metadata": {},
   "outputs": [],
   "source": [
    "for _ in range(int(input())):\n",
    "    print(input().lower())"
   ]
  },
  {
   "cell_type": "code",
   "execution_count": null,
   "metadata": {},
   "outputs": [],
   "source": [
    "vac = int(input())\n",
    "math = int(input())\n",
    "lang = int(input())\n",
    "max_m = int(input())\n",
    "max_l = int(input())\n",
    "\n",
    "if math / max_m > math // max_m:\n",
    "    day_m = math // max_m + 1\n",
    "else:\n",
    "    day_m = math // max_m\n",
    "\n",
    "if lang / max_l > lang // max_l:\n",
    "    day_l = lang // max_l + 1\n",
    "else:\n",
    "    day_l = lang // max_l\n",
    "\n",
    "print(vac - max(day_m, day_l))"
   ]
  },
  {
   "cell_type": "code",
   "execution_count": null,
   "metadata": {},
   "outputs": [],
   "source": [
    "burg1 = int(input())\n",
    "burg2 = int(input())\n",
    "burg3 = int(input())\n",
    "drink1 = int(input())\n",
    "drink2 = int(input())\n",
    "\n",
    "print(min(burg1, burg2, burg3) + min(drink1, drink2) - 50)"
   ]
  },
  {
   "cell_type": "code",
   "execution_count": null,
   "metadata": {},
   "outputs": [],
   "source": [
    "tm1 = int(input())\n",
    "tm2 = int(input())\n",
    "tm3 = int(input())\n",
    "tm4 = int(input())\n",
    "\n",
    "print((tm1 + tm2 + tm3 + tm4) // 60)\n",
    "print((tm1 + tm2 + tm3 + tm4) % 60)"
   ]
  },
  {
   "cell_type": "code",
   "execution_count": null,
   "metadata": {},
   "outputs": [],
   "source": [
    "def split_and_join(line):\n",
    "    line = line.strip().split(\" \")\n",
    "    return \"-\".join(line)\n",
    "\n",
    "if __name__ == \"__main__\":\n",
    "    line = input()\n",
    "    result = split_and_join(line)\n",
    "    print(result)"
   ]
  },
  {
   "cell_type": "code",
   "execution_count": null,
   "metadata": {},
   "outputs": [],
   "source": [
    "# https://www.acmicpc.net/problem/5575\n",
    "\n",
    "for i in range(3):\n",
    "    fh, fm, fs, lh, lm, ls = map(int, input().split())\n",
    "    time = ((lh * 3600) + (lm * 60) + ls) - ((fh * 3600) + (fm * 60) + fs)\n",
    "    print(time // 3600, (time % 3600) // 60, (time % 3600) % 60)"
   ]
  },
  {
   "cell_type": "code",
   "execution_count": null,
   "metadata": {},
   "outputs": [],
   "source": [
    "K, N, M = map(int, input().split())\n",
    "print(((K * N) - M) if (K * N) - M >= 0 else 0)"
   ]
  },
  {
   "cell_type": "code",
   "execution_count": null,
   "metadata": {},
   "outputs": [],
   "source": [
    "p1t, p1b = map(int, input().split())\n",
    "p2t, p2b = map(int, input().split())\n",
    "\n",
    "if (p1t * 3 + p1b) == (p2t * 3 + p2b):\n",
    "    print(\"NO SCORE\")\n",
    "else:\n",
    "    if (p1t * 3 + p1b) > (p2t * 3 + p2b):\n",
    "        print(1, (p1t * 3 + p1b) - (p2t * 3 + p2b))\n",
    "    else:\n",
    "        print(2, (p2t * 3 + p2b) - (p1t * 3 + p1b))"
   ]
  },
  {
   "cell_type": "code",
   "execution_count": null,
   "metadata": {},
   "outputs": [],
   "source": [
    "sum = 0\n",
    "for i in range(5):\n",
    "    num = int(input())\n",
    "    sum += num if num > 40 else 40\n",
    "print(sum // 5)"
   ]
  },
  {
   "cell_type": "code",
   "execution_count": null,
   "metadata": {},
   "outputs": [],
   "source": [
    "# https://www.acmicpc.net/problem/10808\n",
    "\n",
    "S = input()\n",
    "lis = [0] * 26\n",
    "\n",
    "for i in S:\n",
    "    lis[ord(i) - 97] += 1\n",
    "\n",
    "print(*lis)"
   ]
  },
  {
   "cell_type": "code",
   "execution_count": null,
   "metadata": {},
   "outputs": [],
   "source": [
    "restrict = int(input())\n",
    "car_list = list(map(int, input().split()))\n",
    "\n",
    "count = 0\n",
    "\n",
    "for i in car_list:\n",
    "    if restrict == i:\n",
    "        count += 1\n",
    "print(count)"
   ]
  },
  {
   "cell_type": "code",
   "execution_count": null,
   "metadata": {},
   "outputs": [],
   "source": [
    "# https://www.acmicpc.net/problem/3765\n",
    "\n",
    "try:\n",
    "    while True :\n",
    "        print(input())\n",
    "except:\n",
    "    exit()"
   ]
  },
  {
   "cell_type": "code",
   "execution_count": null,
   "metadata": {},
   "outputs": [],
   "source": [
    "S = list(map(int, input().split()))\n",
    "T = list(map(int, input().split()))\n",
    "\n",
    "print(max(sum(S), sum(T)))"
   ]
  },
  {
   "cell_type": "code",
   "execution_count": null,
   "metadata": {},
   "outputs": [],
   "source": [
    "while True:\n",
    "    line = input()\n",
    "    if line == 'END':\n",
    "        break\n",
    "    else:\n",
    "        print(line[::-1])"
   ]
  },
  {
   "cell_type": "code",
   "execution_count": null,
   "metadata": {},
   "outputs": [],
   "source": [
    "while True:\n",
    "    a, b = map(int, input().split())\n",
    "    if a == b == 0:\n",
    "        break\n",
    "    print(a + b)"
   ]
  },
  {
   "cell_type": "code",
   "execution_count": null,
   "metadata": {},
   "outputs": [],
   "source": [
    "for i in range(int(input())):\n",
    "    print(f\"Hello World, Judge {i+1}!\")"
   ]
  },
  {
   "cell_type": "code",
   "execution_count": null,
   "metadata": {},
   "outputs": [],
   "source": [
    "# https://www.acmicpc.net/problem/2869\n",
    "\n",
    "A, B, V = map(int, input().split())\n",
    "\n",
    "days = (V - B) / (A - B)\n",
    "if days == int(days):\n",
    "    print(int(days))\n",
    "else:\n",
    "    print(int(days) + 1)"
   ]
  },
  {
   "cell_type": "code",
   "execution_count": null,
   "metadata": {},
   "outputs": [],
   "source": [
    "# https://www.acmicpc.net/problem/2609\n",
    "\n",
    "a, b = map(int, input().split())\n",
    "A = max(a, b)\n",
    "B = min(a, b)\n",
    "\n",
    "def GCM(A, B):\n",
    "    if A % B == 0:\n",
    "        return B\n",
    "    else:\n",
    "        R = A % B\n",
    "        return GCM(max(R, B), min(R, B))\n",
    "\n",
    "\n",
    "print(GCM(A, B))\n",
    "print(int(a * b / GCM(A, B)))"
   ]
  },
  {
   "cell_type": "code",
   "execution_count": null,
   "metadata": {},
   "outputs": [],
   "source": [
    "num = int(input())\n",
    "for i in range(1, num + 1):\n",
    "    print(\" \" * (i - 1) + \"*\" * (num - i + 1))"
   ]
  },
  {
   "cell_type": "code",
   "execution_count": null,
   "metadata": {},
   "outputs": [],
   "source": [
    "N = int(input())\n",
    "\n",
    "for i in reversed(range(1, N + 1)):\n",
    "    stars = \" \" * (N - i) + \"*\" * ((2 * i) - 1)\n",
    "    print(stars)\n",
    "\n",
    "for i in range(1, N + 1):\n",
    "    stars = \" \" * (N - i) + \"*\" * ((2 * i) - 1)\n",
    "    print(stars)\n"
   ]
  },
  {
   "cell_type": "code",
   "execution_count": null,
   "metadata": {},
   "outputs": [],
   "source": [
    "for _ in range(int(input())):\n",
    "    A, B = map(int, input().split(\",\"))\n",
    "    print(A + B)"
   ]
  },
  {
   "cell_type": "code",
   "execution_count": null,
   "metadata": {},
   "outputs": [],
   "source": [
    "while True:\n",
    "    try:\n",
    "        print(input())\n",
    "    except EOFError:\n",
    "        break"
   ]
  },
  {
   "cell_type": "code",
   "execution_count": null,
   "metadata": {},
   "outputs": [],
   "source": [
    "for _ in range(int(input())):\n",
    "    a, b = map(int, input().split())\n",
    "    A = max(a, b)\n",
    "    B = min(a, b)\n",
    "\n",
    "    def GCM(A, B):\n",
    "        if A % B == 0:\n",
    "            return B\n",
    "        else:\n",
    "            R = A % B\n",
    "            return GCM(max(R, B), min(R, B))\n",
    "\n",
    "    print(int(a * b / GCM(A, B)))"
   ]
  },
  {
   "cell_type": "code",
   "execution_count": null,
   "metadata": {},
   "outputs": [],
   "source": [
    "num_lis = list(map(int, input().split()))\n",
    " \n",
    "if num_lis == sorted(num_lis):\n",
    "    print('ascending')\n",
    "elif num_lis == sorted(num_lis, reverse=True):\n",
    "    print('descending')\n",
    "else:\n",
    "    print('mixed')"
   ]
  },
  {
   "cell_type": "code",
   "execution_count": null,
   "metadata": {},
   "outputs": [],
   "source": [
    "N = int(input())\n",
    "num = 2\n",
    "\n",
    "while N > 1:\n",
    "    if N % num == 0:\n",
    "        print(num)\n",
    "        N = N // num\n",
    "        continue\n",
    "    else:\n",
    "        num += 1"
   ]
  },
  {
   "cell_type": "code",
   "execution_count": null,
   "metadata": {},
   "outputs": [],
   "source": [
    "# https://www.acmicpc.net/problem/11944\n",
    "\n",
    "N, M = map(str, input().split())\n",
    "print((str(N)*N)[:M])"
   ]
  },
  {
   "cell_type": "code",
   "execution_count": null,
   "metadata": {},
   "outputs": [],
   "source": [
    "N, M = map(int, input().split())\n",
    "\n",
    "for i in range(N):\n",
    "    print(*list(reversed(input())),sep='')"
   ]
  },
  {
   "cell_type": "code",
   "execution_count": null,
   "metadata": {},
   "outputs": [],
   "source": [
    "K, D, A = map(int, input().split(\"/\"))\n",
    "if D != 0:\n",
    "    if K + A >= D:\n",
    "        print(\"gosu\")\n",
    "    else:\n",
    "        print(\"hasu\")\n",
    "else:\n",
    "    print(\"hasu\")"
   ]
  }
 ],
 "metadata": {
  "language_info": {
   "name": "python"
  },
  "orig_nbformat": 4
 },
 "nbformat": 4,
 "nbformat_minor": 2
}
